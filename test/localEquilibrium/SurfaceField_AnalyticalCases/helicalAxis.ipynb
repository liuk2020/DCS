{
 "cells": [
  {
   "cell_type": "markdown",
   "metadata": {},
   "source": [
    "## Helical Axis Model\n",
    "\n",
    "$$ R = R_0 + \\rho\\cos\\theta + \\delta\\cos(N\\zeta) $$\n",
    "$$ \\phi = -\\zeta $$\n",
    "$$ Z = \\rho\\sin\\theta + \\delta\\sin(N\\zeta) $$"
   ]
  },
  {
   "cell_type": "code",
   "execution_count": null,
   "metadata": {},
   "outputs": [],
   "source": [
    "import dcs\n",
    "import dcs.toroidalField\n",
    "import dcs.geometry\n",
    "\n",
    "\n",
    "import numpy as np\n",
    "try:\n",
    "    import matplotlib\n",
    "    matplotlib.rcParams['text.usetex'] = True\n",
    "except:\n",
    "    pass\n",
    "import matplotlib.pyplot as plt \n"
   ]
  },
  {
   "cell_type": "code",
   "execution_count": null,
   "metadata": {},
   "outputs": [],
   "source": [
    "r0 = 2 \n",
    "rho = 0.02\n",
    "delta = 0.02\n",
    "nfp = 100\n",
    "\n",
    "funR = lambda thetaArr, zetaArr: r0 + rho*np.cos(thetaArr) + delta*np.cos(nfp*zetaArr) \n",
    "funZ = lambda thetaArr, zetaArr: rho*np.sin(thetaArr) + delta*np.sin(nfp*zetaArr)"
   ]
  },
  {
   "cell_type": "code",
   "execution_count": null,
   "metadata": {},
   "outputs": [],
   "source": [
    "sampleNumsTheta, sampleNumsZeta = 4, 4\n",
    "deltaTheta = 2*np.pi / (2*sampleNumsTheta+1)\n",
    "deltaZeta = 2*np.pi / nfp / (2*sampleNumsZeta+1)\n",
    "sampleTheta, sampleZeta = np.arange(2*sampleNumsTheta+1)*deltaTheta, np.arange(2*sampleNums+1)*deltaVarPhi\n",
    "gridSampleVarPhi, gridSampleTheta = np.meshgrid(sampleVarPhi, sampleTheta)\n",
    "sampleR = funR(gridSampleTheta, -gridSampleVarPhi)\n",
    "sampleZ = funZ(gridSampleTheta, - gridSampleVarPhi)\n",
    "\n",
    "fieldR = lec.toroidalField.fftToroidalField(sampleR, nfp=nfp)\n",
    "fieldZ = lec.toroidalField.fftToroidalField(sampleZ, nfp=nfp)\n",
    "\n",
    "surfHelicalAxis = lec.geometry.Surface(fieldR, fieldZ)"
   ]
  }
 ],
 "metadata": {
  "kernelspec": {
   "display_name": "Python 3.9.18 ('dcs')",
   "language": "python",
   "name": "python3"
  },
  "language_info": {
   "name": "python",
   "version": "3.9.18"
  },
  "orig_nbformat": 4,
  "vscode": {
   "interpreter": {
    "hash": "a6bfe71279442a911c2847b0c9fbff442350c37b8f03a859f05ddb425be17d0a"
   }
  }
 },
 "nbformat": 4,
 "nbformat_minor": 2
}
