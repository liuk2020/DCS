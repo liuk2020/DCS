{
 "cells": [
  {
   "cell_type": "markdown",
   "metadata": {},
   "source": [
    "# 环面$\\mathbf{x}$的表示\n",
    "\n",
    "环面$\\mathbf{x}$借助极向角$\\theta$和环向角$\\zeta$可以表示为\n",
    "$$ \\mathbf{x} = R(\\theta,\\zeta)\\mathbf{e}_R + Z(\\theta,\\zeta)\\mathbf{e}_Z $$\n",
    "其中环向角$\\zeta$与柱坐标方位角$\\phi$有关系\n",
    "$$ \\phi=\\phi(\\theta, \\zeta) $$"
   ]
  },
  {
   "cell_type": "markdown",
   "metadata": {},
   "source": [
    "# 环面上的度规"
   ]
  },
  {
   "cell_type": "markdown",
   "metadata": {},
   "source": [
    "环面$\\mathbf{x} = R(\\theta,\\zeta)\\mathbf{e}_R + Z(\\theta,\\zeta)\\mathbf{e}_Z$与柱坐标$(R, \\phi, Z)$之间有映射\n",
    "$$ \\begin{aligned}\n",
    "R &= R(\\theta, \\zeta) \\\\\n",
    "\\phi &= \\phi(\\theta, \\zeta) \\\\ \n",
    "Z &= Z(\\theta, \\zeta)\n",
    "\\end{aligned} $$"
   ]
  },
  {
   "cell_type": "markdown",
   "metadata": {},
   "source": [
    "故有\n",
    "$$ \\begin{aligned}\n",
    "\\frac{\\partial\\mathrm{x}}{\\partial \\theta} &= \\frac{\\partial R}{\\partial \\theta}\\mathrm{e}_R + \\frac{\\partial Z}{\\partial \\theta}\\mathrm{e}_Z \\\\\n",
    "\\frac{\\partial\\mathrm{x}}{\\partial \\zeta} &= \\frac{\\partial R}{\\partial \\zeta}\\mathrm{e}_R + R\\frac{\\partial\\phi}{\\partial\\zeta}\\mathrm{e}_\\phi + \\frac{\\partial Z}{\\partial \\zeta}\\mathrm{e}_Z\n",
    "\\end{aligned} $$"
   ]
  },
  {
   "cell_type": "markdown",
   "metadata": {},
   "source": [
    "因此有度规\n",
    "$$ \\begin{aligned}\n",
    "g_{\\theta\\theta} &= \\frac{\\partial R}{\\partial\\theta}\\frac{\\partial R}{\\partial\\theta} + \\frac{\\partial Z}{\\partial\\theta}\\frac{\\partial Z}{\\partial\\theta} \\\\ \n",
    "g_{\\theta\\zeta} &= \\frac{\\partial R}{\\partial\\theta}\\frac{\\partial R}{\\partial\\zeta} + \\frac{\\partial Z}{\\partial\\theta}\\frac{\\partial Z}{\\partial\\zeta} \\\\ \n",
    "g_{\\zeta\\zeta} &= \\frac{\\partial R}{\\partial\\zeta}\\frac{\\partial R}{\\partial\\zeta} + R^2\\frac{\\partial\\phi}{\\partial\\zeta}\\frac{\\partial\\phi}{\\partial\\zeta} + \\frac{\\partial Z}{\\partial\\zeta}\\frac{\\partial Z}{\\partial\\zeta}\n",
    "\\end{aligned} $$"
   ]
  }
 ],
 "metadata": {
  "kernelspec": {
   "display_name": "Python 3.9.18 ('dcs')",
   "language": "python",
   "name": "python3"
  },
  "language_info": {
   "name": "python",
   "version": "3.9.18"
  },
  "orig_nbformat": 4,
  "vscode": {
   "interpreter": {
    "hash": "20111b9bdd5852c3052f33337509099db498e72c4f44a3110f8c2b127bb11ed1"
   }
  }
 },
 "nbformat": 4,
 "nbformat_minor": 2
}
