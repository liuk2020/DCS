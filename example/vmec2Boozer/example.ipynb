{
 "cells": [
  {
   "cell_type": "markdown",
   "metadata": {},
   "source": [
    "## This is an example of how to use the python package `dcs` to transform a quantity from the vmec coordinates to the Boozer coordinates."
   ]
  },
  {
   "cell_type": "code",
   "execution_count": null,
   "metadata": {},
   "outputs": [],
   "source": [
    "import numpy as np\n",
    "import matplotlib.pyplot as plt \n",
    "from dcs.vmec import VMECOut\n",
    "from dcs.vacuumCylinder import VacuumField\n",
    "from dcs.boozerForm import BoozerForm\n",
    "import matplotlib\n",
    "matplotlib.rcParams['text.usetex'] = True"
   ]
  },
  {
   "cell_type": "markdown",
   "metadata": {},
   "source": [
    "### Also, you can transform quantities at the same time."
   ]
  }
 ],
 "metadata": {
  "kernelspec": {
   "display_name": "Python 3.9.18 ('lkpy')",
   "language": "python",
   "name": "python3"
  },
  "language_info": {
   "name": "python",
   "version": "3.9.18"
  },
  "orig_nbformat": 4,
  "vscode": {
   "interpreter": {
    "hash": "22c41828c06fb51b1b4c5e69954069d29f912dd6a2de9427bbf55f69244fd812"
   }
  }
 },
 "nbformat": 4,
 "nbformat_minor": 2
}
